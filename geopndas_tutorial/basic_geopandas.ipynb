{
 "cells": [
  {
   "cell_type": "code",
   "execution_count": 28,
   "metadata": {},
   "outputs": [],
   "source": [
    "import geopandas "
   ]
  },
  {
   "cell_type": "code",
   "execution_count": 29,
   "metadata": {},
   "outputs": [
    {
     "data": {
      "text/plain": [
       "ID_ANNEX       1\n",
       "ANNEXDESCR     1\n",
       "ID_TEMA        1\n",
       "TEMA_DESCR     1\n",
       "ID_CONJUNT     1\n",
       "CONJ_DESCR     1\n",
       "ID_SUBCONJ     1\n",
       "SCONJ_DESC     1\n",
       "ID_ELEMENT     1\n",
       "ELEM_DESCR     1\n",
       "NIVELL         1\n",
       "NDESCR_CA      1\n",
       "NDESCR_ES      1\n",
       "NDESCR_EN      1\n",
       "TERME          1\n",
       "DISTRICTE     10\n",
       "BARRI          1\n",
       "AEB            1\n",
       "SEC_CENS       1\n",
       "GRANBARRI      1\n",
       "ZUA            1\n",
       "AREA_I         1\n",
       "LITERAL       10\n",
       "PERIMETRE     10\n",
       "AREA          10\n",
       "ORD_REPRES     1\n",
       "CODI_UA       10\n",
       "TIPUS_UA       1\n",
       "NOM           10\n",
       "WEB1          10\n",
       "WEB2          10\n",
       "WEB3          10\n",
       "DOCUMENTA      0\n",
       "RANGESCALA     1\n",
       "TIPUS_POL      0\n",
       "GRUIX_ID       1\n",
       "GRUIXDIMEN     1\n",
       "ESTIL_ID       1\n",
       "ESTIL_QGIS     1\n",
       "VALOR1QGIS     1\n",
       "VALOR2QGIS     1\n",
       "COL_FARCIT     1\n",
       "FCOL_DESCR     1\n",
       "FHEX_COLOR     1\n",
       "COL_DESCR      1\n",
       "HEX_COLOR7     1\n",
       "geometry      10\n",
       "dtype: int64"
      ]
     },
     "execution_count": 29,
     "metadata": {},
     "output_type": "execute_result"
    }
   ],
   "source": [
    "# access a url \n",
    "url = 'https://raw.githubusercontent.com/jcanalesluna/bcn-geodata/master/districtes/districtes.geojson'\n",
    "\n",
    "gdf = geopandas.read_file(filename=url)\n",
    "gdf.nunique()"
   ]
  },
  {
   "cell_type": "code",
   "execution_count": 30,
   "metadata": {},
   "outputs": [
    {
     "data": {
      "text/plain": [
       "Index(['ID_ANNEX', 'ANNEXDESCR', 'ID_TEMA', 'TEMA_DESCR', 'ID_CONJUNT',\n",
       "       'CONJ_DESCR', 'ID_SUBCONJ', 'SCONJ_DESC', 'ID_ELEMENT', 'ELEM_DESCR',\n",
       "       'NIVELL', 'NDESCR_CA', 'NDESCR_ES', 'NDESCR_EN', 'TERME', 'DISTRICTE',\n",
       "       'BARRI', 'AEB', 'SEC_CENS', 'GRANBARRI', 'ZUA', 'AREA_I', 'LITERAL',\n",
       "       'PERIMETRE', 'AREA', 'ORD_REPRES', 'CODI_UA', 'TIPUS_UA', 'NOM', 'WEB1',\n",
       "       'WEB2', 'WEB3', 'DOCUMENTA', 'RANGESCALA', 'TIPUS_POL', 'GRUIX_ID',\n",
       "       'GRUIXDIMEN', 'ESTIL_ID', 'ESTIL_QGIS', 'VALOR1QGIS', 'VALOR2QGIS',\n",
       "       'COL_FARCIT', 'FCOL_DESCR', 'FHEX_COLOR', 'COL_DESCR', 'HEX_COLOR7',\n",
       "       'geometry'],\n",
       "      dtype='object')"
      ]
     },
     "execution_count": 30,
     "metadata": {},
     "output_type": "execute_result"
    }
   ],
   "source": [
    "# get all the columns name\n",
    "gdf.columns"
   ]
  },
  {
   "cell_type": "code",
   "execution_count": 4,
   "metadata": {},
   "outputs": [
    {
     "data": {
      "text/plain": [
       "<Geographic 2D CRS: EPSG:4326>\n",
       "Name: WGS 84\n",
       "Axis Info [ellipsoidal]:\n",
       "- Lat[north]: Geodetic latitude (degree)\n",
       "- Lon[east]: Geodetic longitude (degree)\n",
       "Area of Use:\n",
       "- name: World.\n",
       "- bounds: (-180.0, -90.0, 180.0, 90.0)\n",
       "Datum: World Geodetic System 1984 ensemble\n",
       "- Ellipsoid: WGS 84\n",
       "- Prime Meridian: Greenwich"
      ]
     },
     "execution_count": 4,
     "metadata": {},
     "output_type": "execute_result"
    }
   ],
   "source": [
    "# check the CRS \n",
    "gdf.crs"
   ]
  },
  {
   "cell_type": "code",
   "execution_count": 5,
   "metadata": {},
   "outputs": [
    {
     "data": {
      "text/plain": [
       "0    POLYGON ((2.18345 41.39061, 2.18459 41.38976, ...\n",
       "1    POLYGON ((2.1869 41.40165, 2.18689 41.40087, 2...\n",
       "2    MULTIPOLYGON (((2.14824 41.37623, 2.14896 41.3...\n",
       "3    POLYGON ((2.10342 41.4011, 2.10352 41.40109, 2...\n",
       "4    MULTIPOLYGON (((2.07313 41.43522, 2.07319 41.4...\n",
       "5    POLYGON ((2.13629 41.42363, 2.1364 41.42358, 2...\n",
       "6    POLYGON ((2.15949 41.44977, 2.15942 41.4496, 2...\n",
       "7    POLYGON ((2.18706 41.46772, 2.18711 41.46711, ...\n",
       "8    POLYGON ((2.18764 41.46212, 2.18765 41.46208, ...\n",
       "9    POLYGON ((2.20736 41.42711, 2.20698 41.42665, ...\n",
       "Name: geometry, dtype: geometry"
      ]
     },
     "execution_count": 5,
     "metadata": {},
     "output_type": "execute_result"
    }
   ],
   "source": [
    "gdf['geometry']"
   ]
  },
  {
   "cell_type": "code",
   "execution_count": 6,
   "metadata": {},
   "outputs": [
    {
     "data": {
      "text/plain": [
       "0     4.204931\n",
       "1     7.464303\n",
       "2    22.879850\n",
       "3     6.010769\n",
       "4    19.915566\n",
       "5     4.224278\n",
       "6    11.919631\n",
       "7     8.056468\n",
       "8     6.592480\n",
       "9    10.436698\n",
       "Name: AREA, dtype: float64"
      ]
     },
     "execution_count": 6,
     "metadata": {},
     "output_type": "execute_result"
    }
   ],
   "source": [
    "# check the area\n",
    "area = gdf['AREA'] / 1000000\n",
    "area"
   ]
  },
  {
   "cell_type": "code",
   "execution_count": 7,
   "metadata": {},
   "outputs": [
    {
     "data": {
      "text/html": [
       "<div>\n",
       "<style scoped>\n",
       "    .dataframe tbody tr th:only-of-type {\n",
       "        vertical-align: middle;\n",
       "    }\n",
       "\n",
       "    .dataframe tbody tr th {\n",
       "        vertical-align: top;\n",
       "    }\n",
       "\n",
       "    .dataframe thead th {\n",
       "        text-align: right;\n",
       "    }\n",
       "</style>\n",
       "<table border=\"1\" class=\"dataframe\">\n",
       "  <thead>\n",
       "    <tr style=\"text-align: right;\">\n",
       "      <th></th>\n",
       "      <th>ID_ANNEX</th>\n",
       "      <th>ANNEXDESCR</th>\n",
       "      <th>ID_TEMA</th>\n",
       "      <th>TEMA_DESCR</th>\n",
       "      <th>ID_CONJUNT</th>\n",
       "      <th>CONJ_DESCR</th>\n",
       "      <th>ID_SUBCONJ</th>\n",
       "      <th>SCONJ_DESC</th>\n",
       "      <th>ID_ELEMENT</th>\n",
       "      <th>ELEM_DESCR</th>\n",
       "      <th>...</th>\n",
       "      <th>ESTIL_QGIS</th>\n",
       "      <th>VALOR1QGIS</th>\n",
       "      <th>VALOR2QGIS</th>\n",
       "      <th>COL_FARCIT</th>\n",
       "      <th>FCOL_DESCR</th>\n",
       "      <th>FHEX_COLOR</th>\n",
       "      <th>COL_DESCR</th>\n",
       "      <th>HEX_COLOR7</th>\n",
       "      <th>geometry</th>\n",
       "      <th>Calculated_Area</th>\n",
       "    </tr>\n",
       "  </thead>\n",
       "  <tbody>\n",
       "    <tr>\n",
       "      <th>0</th>\n",
       "      <td>01</td>\n",
       "      <td>Grup - I</td>\n",
       "      <td>0104</td>\n",
       "      <td>Unitats Administratives</td>\n",
       "      <td>010412</td>\n",
       "      <td>Districtes</td>\n",
       "      <td>01041201</td>\n",
       "      <td>Districte</td>\n",
       "      <td>0104120101</td>\n",
       "      <td>Límit de districte</td>\n",
       "      <td>...</td>\n",
       "      <td>Sòlid</td>\n",
       "      <td>0</td>\n",
       "      <td>0</td>\n",
       "      <td>1</td>\n",
       "      <td>Negre</td>\n",
       "      <td>#000000</td>\n",
       "      <td>Negre</td>\n",
       "      <td>#000000</td>\n",
       "      <td>POLYGON ((2.18345 41.39061, 2.18459 41.38976, ...</td>\n",
       "      <td>4.204931</td>\n",
       "    </tr>\n",
       "    <tr>\n",
       "      <th>1</th>\n",
       "      <td>01</td>\n",
       "      <td>Grup - I</td>\n",
       "      <td>0104</td>\n",
       "      <td>Unitats Administratives</td>\n",
       "      <td>010412</td>\n",
       "      <td>Districtes</td>\n",
       "      <td>01041201</td>\n",
       "      <td>Districte</td>\n",
       "      <td>0104120101</td>\n",
       "      <td>Límit de districte</td>\n",
       "      <td>...</td>\n",
       "      <td>Sòlid</td>\n",
       "      <td>0</td>\n",
       "      <td>0</td>\n",
       "      <td>1</td>\n",
       "      <td>Negre</td>\n",
       "      <td>#000000</td>\n",
       "      <td>Negre</td>\n",
       "      <td>#000000</td>\n",
       "      <td>POLYGON ((2.1869 41.40165, 2.18689 41.40087, 2...</td>\n",
       "      <td>7.464303</td>\n",
       "    </tr>\n",
       "  </tbody>\n",
       "</table>\n",
       "<p>2 rows × 48 columns</p>\n",
       "</div>"
      ],
      "text/plain": [
       "  ID_ANNEX ANNEXDESCR ID_TEMA               TEMA_DESCR ID_CONJUNT  CONJ_DESCR  \\\n",
       "0       01   Grup - I    0104  Unitats Administratives     010412  Districtes   \n",
       "1       01   Grup - I    0104  Unitats Administratives     010412  Districtes   \n",
       "\n",
       "  ID_SUBCONJ SCONJ_DESC  ID_ELEMENT          ELEM_DESCR  ... ESTIL_QGIS  \\\n",
       "0   01041201  Districte  0104120101  Límit de districte  ...      Sòlid   \n",
       "1   01041201  Districte  0104120101  Límit de districte  ...      Sòlid   \n",
       "\n",
       "  VALOR1QGIS VALOR2QGIS COL_FARCIT FCOL_DESCR FHEX_COLOR COL_DESCR HEX_COLOR7  \\\n",
       "0          0          0          1      Negre    #000000     Negre    #000000   \n",
       "1          0          0          1      Negre    #000000     Negre    #000000   \n",
       "\n",
       "                                            geometry Calculated_Area  \n",
       "0  POLYGON ((2.18345 41.39061, 2.18459 41.38976, ...        4.204931  \n",
       "1  POLYGON ((2.1869 41.40165, 2.18689 41.40087, 2...        7.464303  \n",
       "\n",
       "[2 rows x 48 columns]"
      ]
     },
     "execution_count": 7,
     "metadata": {},
     "output_type": "execute_result"
    }
   ],
   "source": [
    "# add the calculated area into a new coloumn\n",
    "area = gdf['AREA'] / 1000000\n",
    "gdf[\"Calculated_Area\"] = area\n",
    "\n",
    "gdf.head(2)"
   ]
  },
  {
   "cell_type": "code",
   "execution_count": 8,
   "metadata": {},
   "outputs": [
    {
     "name": "stderr",
     "output_type": "stream",
     "text": [
      "C:\\Users\\Hasem\\AppData\\Local\\Temp\\ipykernel_13120\\187917678.py:2: UserWarning: Geometry is in a geographic CRS. Results from 'centroid' are likely incorrect. Use 'GeoSeries.to_crs()' to re-project geometries to a projected CRS before this operation.\n",
      "\n",
      "  centre_point_of_gemometry = gdf.centroid\n"
     ]
    },
    {
     "data": {
      "text/plain": [
       "0    POINT (2.18073 41.38113)\n",
       "1    POINT (2.16447 41.39159)\n",
       "2     POINT (2.14444 41.3498)\n",
       "3    POINT (2.11824 41.38693)\n",
       "4     POINT (2.10651 41.4126)\n",
       "5    POINT (2.15222 41.41026)\n",
       "6    POINT (2.15057 41.42916)\n",
       "7    POINT (2.17507 41.44631)\n",
       "8    POINT (2.19331 41.43504)\n",
       "9    POINT (2.20104 41.40763)\n",
       "dtype: geometry"
      ]
     },
     "execution_count": 8,
     "metadata": {},
     "output_type": "execute_result"
    }
   ],
   "source": [
    "# check the centtoid (the centre point of a geometry)\n",
    "centre_point_of_gemometry = gdf.centroid \n",
    "centre_point_of_gemometry"
   ]
  },
  {
   "cell_type": "code",
   "execution_count": 9,
   "metadata": {},
   "outputs": [
    {
     "data": {
      "text/html": [
       "<div>\n",
       "<style scoped>\n",
       "    .dataframe tbody tr th:only-of-type {\n",
       "        vertical-align: middle;\n",
       "    }\n",
       "\n",
       "    .dataframe tbody tr th {\n",
       "        vertical-align: top;\n",
       "    }\n",
       "\n",
       "    .dataframe thead th {\n",
       "        text-align: right;\n",
       "    }\n",
       "</style>\n",
       "<table border=\"1\" class=\"dataframe\">\n",
       "  <thead>\n",
       "    <tr style=\"text-align: right;\">\n",
       "      <th></th>\n",
       "      <th>ID_ANNEX</th>\n",
       "      <th>ANNEXDESCR</th>\n",
       "      <th>ID_TEMA</th>\n",
       "      <th>TEMA_DESCR</th>\n",
       "      <th>ID_CONJUNT</th>\n",
       "      <th>CONJ_DESCR</th>\n",
       "      <th>ID_SUBCONJ</th>\n",
       "      <th>SCONJ_DESC</th>\n",
       "      <th>ID_ELEMENT</th>\n",
       "      <th>ELEM_DESCR</th>\n",
       "      <th>...</th>\n",
       "      <th>ESTIL_QGIS</th>\n",
       "      <th>VALOR1QGIS</th>\n",
       "      <th>VALOR2QGIS</th>\n",
       "      <th>COL_FARCIT</th>\n",
       "      <th>FCOL_DESCR</th>\n",
       "      <th>FHEX_COLOR</th>\n",
       "      <th>COL_DESCR</th>\n",
       "      <th>HEX_COLOR7</th>\n",
       "      <th>geometry</th>\n",
       "      <th>Calculated_Area</th>\n",
       "    </tr>\n",
       "  </thead>\n",
       "  <tbody>\n",
       "    <tr>\n",
       "      <th>0</th>\n",
       "      <td>01</td>\n",
       "      <td>Grup - I</td>\n",
       "      <td>0104</td>\n",
       "      <td>Unitats Administratives</td>\n",
       "      <td>010412</td>\n",
       "      <td>Districtes</td>\n",
       "      <td>01041201</td>\n",
       "      <td>Districte</td>\n",
       "      <td>0104120101</td>\n",
       "      <td>Límit de districte</td>\n",
       "      <td>...</td>\n",
       "      <td>Sòlid</td>\n",
       "      <td>0</td>\n",
       "      <td>0</td>\n",
       "      <td>1</td>\n",
       "      <td>Negre</td>\n",
       "      <td>#000000</td>\n",
       "      <td>Negre</td>\n",
       "      <td>#000000</td>\n",
       "      <td>POLYGON ((1090241.744 770405.596, 1090342.582 ...</td>\n",
       "      <td>4.204931</td>\n",
       "    </tr>\n",
       "    <tr>\n",
       "      <th>1</th>\n",
       "      <td>01</td>\n",
       "      <td>Grup - I</td>\n",
       "      <td>0104</td>\n",
       "      <td>Unitats Administratives</td>\n",
       "      <td>010412</td>\n",
       "      <td>Districtes</td>\n",
       "      <td>01041201</td>\n",
       "      <td>Districte</td>\n",
       "      <td>0104120101</td>\n",
       "      <td>Límit de districte</td>\n",
       "      <td>...</td>\n",
       "      <td>Sòlid</td>\n",
       "      <td>0</td>\n",
       "      <td>0</td>\n",
       "      <td>1</td>\n",
       "      <td>Negre</td>\n",
       "      <td>#000000</td>\n",
       "      <td>Negre</td>\n",
       "      <td>#000000</td>\n",
       "      <td>POLYGON ((1090448.237 771647.183, 1090453.694 ...</td>\n",
       "      <td>7.464303</td>\n",
       "    </tr>\n",
       "    <tr>\n",
       "      <th>2</th>\n",
       "      <td>01</td>\n",
       "      <td>Grup - I</td>\n",
       "      <td>0104</td>\n",
       "      <td>Unitats Administratives</td>\n",
       "      <td>010412</td>\n",
       "      <td>Districtes</td>\n",
       "      <td>01041201</td>\n",
       "      <td>Districte</td>\n",
       "      <td>0104120101</td>\n",
       "      <td>Límit de districte</td>\n",
       "      <td>...</td>\n",
       "      <td>Sòlid</td>\n",
       "      <td>0</td>\n",
       "      <td>0</td>\n",
       "      <td>1</td>\n",
       "      <td>Negre</td>\n",
       "      <td>#000000</td>\n",
       "      <td>Negre</td>\n",
       "      <td>#000000</td>\n",
       "      <td>MULTIPOLYGON (((1087409.714 768620.322, 108747...</td>\n",
       "      <td>22.879850</td>\n",
       "    </tr>\n",
       "    <tr>\n",
       "      <th>3</th>\n",
       "      <td>01</td>\n",
       "      <td>Grup - I</td>\n",
       "      <td>0104</td>\n",
       "      <td>Unitats Administratives</td>\n",
       "      <td>010412</td>\n",
       "      <td>Districtes</td>\n",
       "      <td>01041201</td>\n",
       "      <td>Districte</td>\n",
       "      <td>0104120101</td>\n",
       "      <td>Límit de districte</td>\n",
       "      <td>...</td>\n",
       "      <td>Sòlid</td>\n",
       "      <td>0</td>\n",
       "      <td>0</td>\n",
       "      <td>1</td>\n",
       "      <td>Negre</td>\n",
       "      <td>#000000</td>\n",
       "      <td>Negre</td>\n",
       "      <td>#000000</td>\n",
       "      <td>POLYGON ((1083492.496 771129.964, 1083500.768 ...</td>\n",
       "      <td>6.010769</td>\n",
       "    </tr>\n",
       "    <tr>\n",
       "      <th>4</th>\n",
       "      <td>01</td>\n",
       "      <td>Grup - I</td>\n",
       "      <td>0104</td>\n",
       "      <td>Unitats Administratives</td>\n",
       "      <td>010412</td>\n",
       "      <td>Districtes</td>\n",
       "      <td>01041201</td>\n",
       "      <td>Districte</td>\n",
       "      <td>0104120101</td>\n",
       "      <td>Límit de districte</td>\n",
       "      <td>...</td>\n",
       "      <td>Sòlid</td>\n",
       "      <td>0</td>\n",
       "      <td>0</td>\n",
       "      <td>1</td>\n",
       "      <td>Negre</td>\n",
       "      <td>#000000</td>\n",
       "      <td>Negre</td>\n",
       "      <td>#000000</td>\n",
       "      <td>MULTIPOLYGON (((1080722.37 774743.807, 1080727...</td>\n",
       "      <td>19.915566</td>\n",
       "    </tr>\n",
       "    <tr>\n",
       "      <th>5</th>\n",
       "      <td>01</td>\n",
       "      <td>Grup - I</td>\n",
       "      <td>0104</td>\n",
       "      <td>Unitats Administratives</td>\n",
       "      <td>010412</td>\n",
       "      <td>Districtes</td>\n",
       "      <td>01041201</td>\n",
       "      <td>Districte</td>\n",
       "      <td>0104120101</td>\n",
       "      <td>Límit de districte</td>\n",
       "      <td>...</td>\n",
       "      <td>Sòlid</td>\n",
       "      <td>0</td>\n",
       "      <td>0</td>\n",
       "      <td>1</td>\n",
       "      <td>Negre</td>\n",
       "      <td>#000000</td>\n",
       "      <td>Negre</td>\n",
       "      <td>#000000</td>\n",
       "      <td>POLYGON ((1086069.591 773802.861, 1086079.498 ...</td>\n",
       "      <td>4.224278</td>\n",
       "    </tr>\n",
       "    <tr>\n",
       "      <th>6</th>\n",
       "      <td>01</td>\n",
       "      <td>Grup - I</td>\n",
       "      <td>0104</td>\n",
       "      <td>Unitats Administratives</td>\n",
       "      <td>010412</td>\n",
       "      <td>Districtes</td>\n",
       "      <td>01041201</td>\n",
       "      <td>Districte</td>\n",
       "      <td>0104120101</td>\n",
       "      <td>Límit de districte</td>\n",
       "      <td>...</td>\n",
       "      <td>Sòlid</td>\n",
       "      <td>0</td>\n",
       "      <td>0</td>\n",
       "      <td>1</td>\n",
       "      <td>Negre</td>\n",
       "      <td>#000000</td>\n",
       "      <td>Negre</td>\n",
       "      <td>#000000</td>\n",
       "      <td>POLYGON ((1087813.19 776824.078, 1087808.825 7...</td>\n",
       "      <td>11.919631</td>\n",
       "    </tr>\n",
       "    <tr>\n",
       "      <th>7</th>\n",
       "      <td>01</td>\n",
       "      <td>Grup - I</td>\n",
       "      <td>0104</td>\n",
       "      <td>Unitats Administratives</td>\n",
       "      <td>010412</td>\n",
       "      <td>Districtes</td>\n",
       "      <td>01041201</td>\n",
       "      <td>Districte</td>\n",
       "      <td>0104120101</td>\n",
       "      <td>Límit de districte</td>\n",
       "      <td>...</td>\n",
       "      <td>Sòlid</td>\n",
       "      <td>0</td>\n",
       "      <td>0</td>\n",
       "      <td>1</td>\n",
       "      <td>Negre</td>\n",
       "      <td>#000000</td>\n",
       "      <td>Negre</td>\n",
       "      <td>#000000</td>\n",
       "      <td>POLYGON ((1089979.232 778962.76, 1089987.903 7...</td>\n",
       "      <td>8.056468</td>\n",
       "    </tr>\n",
       "    <tr>\n",
       "      <th>8</th>\n",
       "      <td>01</td>\n",
       "      <td>Grup - I</td>\n",
       "      <td>0104</td>\n",
       "      <td>Unitats Administratives</td>\n",
       "      <td>010412</td>\n",
       "      <td>Districtes</td>\n",
       "      <td>01041201</td>\n",
       "      <td>Districte</td>\n",
       "      <td>0104120101</td>\n",
       "      <td>Límit de districte</td>\n",
       "      <td>...</td>\n",
       "      <td>Sòlid</td>\n",
       "      <td>0</td>\n",
       "      <td>0</td>\n",
       "      <td>1</td>\n",
       "      <td>Negre</td>\n",
       "      <td>#000000</td>\n",
       "      <td>Negre</td>\n",
       "      <td>#000000</td>\n",
       "      <td>POLYGON ((1090068.516 778346.195, 1090069.246 ...</td>\n",
       "      <td>6.592480</td>\n",
       "    </tr>\n",
       "    <tr>\n",
       "      <th>9</th>\n",
       "      <td>01</td>\n",
       "      <td>Grup - I</td>\n",
       "      <td>0104</td>\n",
       "      <td>Unitats Administratives</td>\n",
       "      <td>010412</td>\n",
       "      <td>Districtes</td>\n",
       "      <td>01041201</td>\n",
       "      <td>Districte</td>\n",
       "      <td>0104120101</td>\n",
       "      <td>Límit de districte</td>\n",
       "      <td>...</td>\n",
       "      <td>Sòlid</td>\n",
       "      <td>0</td>\n",
       "      <td>0</td>\n",
       "      <td>1</td>\n",
       "      <td>Negre</td>\n",
       "      <td>#000000</td>\n",
       "      <td>Negre</td>\n",
       "      <td>#000000</td>\n",
       "      <td>POLYGON ((1091968.026 774578.598, 1091939.067 ...</td>\n",
       "      <td>10.436698</td>\n",
       "    </tr>\n",
       "  </tbody>\n",
       "</table>\n",
       "<p>10 rows × 48 columns</p>\n",
       "</div>"
      ],
      "text/plain": [
       "  ID_ANNEX ANNEXDESCR ID_TEMA               TEMA_DESCR ID_CONJUNT  CONJ_DESCR  \\\n",
       "0       01   Grup - I    0104  Unitats Administratives     010412  Districtes   \n",
       "1       01   Grup - I    0104  Unitats Administratives     010412  Districtes   \n",
       "2       01   Grup - I    0104  Unitats Administratives     010412  Districtes   \n",
       "3       01   Grup - I    0104  Unitats Administratives     010412  Districtes   \n",
       "4       01   Grup - I    0104  Unitats Administratives     010412  Districtes   \n",
       "5       01   Grup - I    0104  Unitats Administratives     010412  Districtes   \n",
       "6       01   Grup - I    0104  Unitats Administratives     010412  Districtes   \n",
       "7       01   Grup - I    0104  Unitats Administratives     010412  Districtes   \n",
       "8       01   Grup - I    0104  Unitats Administratives     010412  Districtes   \n",
       "9       01   Grup - I    0104  Unitats Administratives     010412  Districtes   \n",
       "\n",
       "  ID_SUBCONJ SCONJ_DESC  ID_ELEMENT          ELEM_DESCR  ... ESTIL_QGIS  \\\n",
       "0   01041201  Districte  0104120101  Límit de districte  ...      Sòlid   \n",
       "1   01041201  Districte  0104120101  Límit de districte  ...      Sòlid   \n",
       "2   01041201  Districte  0104120101  Límit de districte  ...      Sòlid   \n",
       "3   01041201  Districte  0104120101  Límit de districte  ...      Sòlid   \n",
       "4   01041201  Districte  0104120101  Límit de districte  ...      Sòlid   \n",
       "5   01041201  Districte  0104120101  Límit de districte  ...      Sòlid   \n",
       "6   01041201  Districte  0104120101  Límit de districte  ...      Sòlid   \n",
       "7   01041201  Districte  0104120101  Límit de districte  ...      Sòlid   \n",
       "8   01041201  Districte  0104120101  Límit de districte  ...      Sòlid   \n",
       "9   01041201  Districte  0104120101  Límit de districte  ...      Sòlid   \n",
       "\n",
       "  VALOR1QGIS VALOR2QGIS COL_FARCIT FCOL_DESCR FHEX_COLOR COL_DESCR HEX_COLOR7  \\\n",
       "0          0          0          1      Negre    #000000     Negre    #000000   \n",
       "1          0          0          1      Negre    #000000     Negre    #000000   \n",
       "2          0          0          1      Negre    #000000     Negre    #000000   \n",
       "3          0          0          1      Negre    #000000     Negre    #000000   \n",
       "4          0          0          1      Negre    #000000     Negre    #000000   \n",
       "5          0          0          1      Negre    #000000     Negre    #000000   \n",
       "6          0          0          1      Negre    #000000     Negre    #000000   \n",
       "7          0          0          1      Negre    #000000     Negre    #000000   \n",
       "8          0          0          1      Negre    #000000     Negre    #000000   \n",
       "9          0          0          1      Negre    #000000     Negre    #000000   \n",
       "\n",
       "                                            geometry Calculated_Area  \n",
       "0  POLYGON ((1090241.744 770405.596, 1090342.582 ...        4.204931  \n",
       "1  POLYGON ((1090448.237 771647.183, 1090453.694 ...        7.464303  \n",
       "2  MULTIPOLYGON (((1087409.714 768620.322, 108747...       22.879850  \n",
       "3  POLYGON ((1083492.496 771129.964, 1083500.768 ...        6.010769  \n",
       "4  MULTIPOLYGON (((1080722.37 774743.807, 1080727...       19.915566  \n",
       "5  POLYGON ((1086069.591 773802.861, 1086079.498 ...        4.224278  \n",
       "6  POLYGON ((1087813.19 776824.078, 1087808.825 7...       11.919631  \n",
       "7  POLYGON ((1089979.232 778962.76, 1089987.903 7...        8.056468  \n",
       "8  POLYGON ((1090068.516 778346.195, 1090069.246 ...        6.592480  \n",
       "9  POLYGON ((1091968.026 774578.598, 1091939.067 ...       10.436698  \n",
       "\n",
       "[10 rows x 48 columns]"
      ]
     },
     "execution_count": 9,
     "metadata": {},
     "output_type": "execute_result"
    }
   ],
   "source": [
    "gdf.to_crs(epsg=2062, inplace=True)\n",
    "gdf"
   ]
  },
  {
   "cell_type": "code",
   "execution_count": 10,
   "metadata": {},
   "outputs": [
    {
     "data": {
      "text/plain": [
       "0    POINT (1090083.871 769341.012)\n",
       "1    POINT (1088651.674 770409.974)\n",
       "2    POINT (1087284.958 765672.155)\n",
       "3    POINT (1084830.283 769641.619)\n",
       "4    POINT (1083668.091 772419.768)\n",
       "5    POINT (1087495.217 772409.978)\n",
       "6     POINT (1087220.19 774493.588)\n",
       "7     POINT (1089137.043 776526.34)\n",
       "8    POINT (1090738.684 775378.323)\n",
       "9    POINT (1091583.398 772387.065)\n",
       "dtype: geometry"
      ]
     },
     "execution_count": 10,
     "metadata": {},
     "output_type": "execute_result"
    }
   ],
   "source": [
    "centre_point_of_gemometry = gdf.centroid \n",
    "centre_point_of_gemometry"
   ]
  },
  {
   "cell_type": "code",
   "execution_count": 11,
   "metadata": {},
   "outputs": [
    {
     "data": {
      "text/plain": [
       "Index(['ID_ANNEX', 'ANNEXDESCR', 'ID_TEMA', 'TEMA_DESCR', 'ID_CONJUNT',\n",
       "       'CONJ_DESCR', 'ID_SUBCONJ', 'SCONJ_DESC', 'ID_ELEMENT', 'ELEM_DESCR',\n",
       "       'NIVELL', 'NDESCR_CA', 'NDESCR_ES', 'NDESCR_EN', 'TERME', 'DISTRICTE',\n",
       "       'BARRI', 'AEB', 'SEC_CENS', 'GRANBARRI', 'ZUA', 'AREA_I', 'LITERAL',\n",
       "       'PERIMETRE', 'AREA', 'ORD_REPRES', 'CODI_UA', 'TIPUS_UA', 'NOM', 'WEB1',\n",
       "       'WEB2', 'WEB3', 'DOCUMENTA', 'RANGESCALA', 'TIPUS_POL', 'GRUIX_ID',\n",
       "       'GRUIXDIMEN', 'ESTIL_ID', 'ESTIL_QGIS', 'VALOR1QGIS', 'VALOR2QGIS',\n",
       "       'COL_FARCIT', 'FCOL_DESCR', 'FHEX_COLOR', 'COL_DESCR', 'HEX_COLOR7',\n",
       "       'geometry', 'Calculated_Area', 'Centroid'],\n",
       "      dtype='object')"
      ]
     },
     "execution_count": 11,
     "metadata": {},
     "output_type": "execute_result"
    }
   ],
   "source": [
    "# add the centroid data to gdf \n",
    "gdf[\"Centroid\"] = centre_point_of_gemometry\n",
    "gdf.columns"
   ]
  },
  {
   "cell_type": "code",
   "execution_count": 12,
   "metadata": {},
   "outputs": [
    {
     "data": {
      "text/html": [
       "<div>\n",
       "<style scoped>\n",
       "    .dataframe tbody tr th:only-of-type {\n",
       "        vertical-align: middle;\n",
       "    }\n",
       "\n",
       "    .dataframe tbody tr th {\n",
       "        vertical-align: top;\n",
       "    }\n",
       "\n",
       "    .dataframe thead th {\n",
       "        text-align: right;\n",
       "    }\n",
       "</style>\n",
       "<table border=\"1\" class=\"dataframe\">\n",
       "  <thead>\n",
       "    <tr style=\"text-align: right;\">\n",
       "      <th></th>\n",
       "      <th>ID_ANNEX</th>\n",
       "      <th>ANNEXDESCR</th>\n",
       "      <th>ID_TEMA</th>\n",
       "      <th>TEMA_DESCR</th>\n",
       "      <th>ID_CONJUNT</th>\n",
       "      <th>CONJ_DESCR</th>\n",
       "      <th>ID_SUBCONJ</th>\n",
       "      <th>SCONJ_DESC</th>\n",
       "      <th>ID_ELEMENT</th>\n",
       "      <th>ELEM_DESCR</th>\n",
       "      <th>...</th>\n",
       "      <th>VALOR1QGIS</th>\n",
       "      <th>VALOR2QGIS</th>\n",
       "      <th>COL_FARCIT</th>\n",
       "      <th>FCOL_DESCR</th>\n",
       "      <th>FHEX_COLOR</th>\n",
       "      <th>COL_DESCR</th>\n",
       "      <th>HEX_COLOR7</th>\n",
       "      <th>geometry</th>\n",
       "      <th>Calculated_Area</th>\n",
       "      <th>Centroid</th>\n",
       "    </tr>\n",
       "  </thead>\n",
       "  <tbody>\n",
       "    <tr>\n",
       "      <th>0</th>\n",
       "      <td>01</td>\n",
       "      <td>Grup - I</td>\n",
       "      <td>0104</td>\n",
       "      <td>Unitats Administratives</td>\n",
       "      <td>010412</td>\n",
       "      <td>Districtes</td>\n",
       "      <td>01041201</td>\n",
       "      <td>Districte</td>\n",
       "      <td>0104120101</td>\n",
       "      <td>Límit de districte</td>\n",
       "      <td>...</td>\n",
       "      <td>0</td>\n",
       "      <td>0</td>\n",
       "      <td>1</td>\n",
       "      <td>Negre</td>\n",
       "      <td>#000000</td>\n",
       "      <td>Negre</td>\n",
       "      <td>#000000</td>\n",
       "      <td>POLYGON ((1090241.744 770405.596, 1090342.582 ...</td>\n",
       "      <td>4.204931</td>\n",
       "      <td>POINT (1090083.871 769341.012)</td>\n",
       "    </tr>\n",
       "    <tr>\n",
       "      <th>1</th>\n",
       "      <td>01</td>\n",
       "      <td>Grup - I</td>\n",
       "      <td>0104</td>\n",
       "      <td>Unitats Administratives</td>\n",
       "      <td>010412</td>\n",
       "      <td>Districtes</td>\n",
       "      <td>01041201</td>\n",
       "      <td>Districte</td>\n",
       "      <td>0104120101</td>\n",
       "      <td>Límit de districte</td>\n",
       "      <td>...</td>\n",
       "      <td>0</td>\n",
       "      <td>0</td>\n",
       "      <td>1</td>\n",
       "      <td>Negre</td>\n",
       "      <td>#000000</td>\n",
       "      <td>Negre</td>\n",
       "      <td>#000000</td>\n",
       "      <td>POLYGON ((1090448.237 771647.183, 1090453.694 ...</td>\n",
       "      <td>7.464303</td>\n",
       "      <td>POINT (1088651.674 770409.974)</td>\n",
       "    </tr>\n",
       "  </tbody>\n",
       "</table>\n",
       "<p>2 rows × 49 columns</p>\n",
       "</div>"
      ],
      "text/plain": [
       "  ID_ANNEX ANNEXDESCR ID_TEMA               TEMA_DESCR ID_CONJUNT  CONJ_DESCR  \\\n",
       "0       01   Grup - I    0104  Unitats Administratives     010412  Districtes   \n",
       "1       01   Grup - I    0104  Unitats Administratives     010412  Districtes   \n",
       "\n",
       "  ID_SUBCONJ SCONJ_DESC  ID_ELEMENT          ELEM_DESCR  ... VALOR1QGIS  \\\n",
       "0   01041201  Districte  0104120101  Límit de districte  ...          0   \n",
       "1   01041201  Districte  0104120101  Límit de districte  ...          0   \n",
       "\n",
       "  VALOR2QGIS COL_FARCIT FCOL_DESCR FHEX_COLOR COL_DESCR HEX_COLOR7  \\\n",
       "0          0          1      Negre    #000000     Negre    #000000   \n",
       "1          0          1      Negre    #000000     Negre    #000000   \n",
       "\n",
       "                                            geometry Calculated_Area  \\\n",
       "0  POLYGON ((1090241.744 770405.596, 1090342.582 ...        4.204931   \n",
       "1  POLYGON ((1090448.237 771647.183, 1090453.694 ...        7.464303   \n",
       "\n",
       "                         Centroid  \n",
       "0  POINT (1090083.871 769341.012)  \n",
       "1  POINT (1088651.674 770409.974)  \n",
       "\n",
       "[2 rows x 49 columns]"
      ]
     },
     "execution_count": 12,
     "metadata": {},
     "output_type": "execute_result"
    }
   ],
   "source": [
    "gdf.head(2)"
   ]
  },
  {
   "cell_type": "code",
   "execution_count": 13,
   "metadata": {},
   "outputs": [
    {
     "data": {
      "text/plain": [
       "0    LINESTRING (1090241.744 770405.596, 1090342.58...\n",
       "1    LINESTRING (1090448.237 771647.183, 1090453.69...\n",
       "2    MULTILINESTRING ((1087409.714 768620.322, 1087...\n",
       "3    LINESTRING (1083492.496 771129.964, 1083500.76...\n",
       "4    MULTILINESTRING ((1080722.37 774743.807, 10807...\n",
       "5    LINESTRING (1086069.591 773802.861, 1086079.49...\n",
       "6    LINESTRING (1087813.19 776824.078, 1087808.825...\n",
       "7    LINESTRING (1089979.232 778962.76, 1089987.903...\n",
       "8    LINESTRING (1090068.516 778346.195, 1090069.24...\n",
       "9    LINESTRING (1091968.026 774578.598, 1091939.06...\n",
       "dtype: geometry"
      ]
     },
     "execution_count": 13,
     "metadata": {},
     "output_type": "execute_result"
    }
   ],
   "source": [
    "gdf.boundary"
   ]
  },
  {
   "cell_type": "code",
   "execution_count": 14,
   "metadata": {},
   "outputs": [
    {
     "data": {
      "text/plain": [
       "0    LINESTRING (1090241.744 770405.596, 1090342.58...\n",
       "1    LINESTRING (1090448.237 771647.183, 1090453.69...\n",
       "2    MULTILINESTRING ((1087409.714 768620.322, 1087...\n",
       "3    LINESTRING (1083492.496 771129.964, 1083500.76...\n",
       "4    MULTILINESTRING ((1080722.37 774743.807, 10807...\n",
       "5    LINESTRING (1086069.591 773802.861, 1086079.49...\n",
       "6    LINESTRING (1087813.19 776824.078, 1087808.825...\n",
       "7    LINESTRING (1089979.232 778962.76, 1089987.903...\n",
       "8    LINESTRING (1090068.516 778346.195, 1090069.24...\n",
       "9    LINESTRING (1091968.026 774578.598, 1091939.06...\n",
       "Name: Boundary, dtype: geometry"
      ]
     },
     "execution_count": 14,
     "metadata": {},
     "output_type": "execute_result"
    }
   ],
   "source": [
    "gdf['Boundary'] = gdf.boundary\n",
    "gdf[\"Boundary\"]"
   ]
  },
  {
   "cell_type": "code",
   "execution_count": 15,
   "metadata": {},
   "outputs": [
    {
     "name": "stderr",
     "output_type": "stream",
     "text": [
      "C:\\Users\\Hasem\\AppData\\Local\\Temp\\ipykernel_13120\\2929284677.py:7: FutureWarning: Calling float on a single element Series is deprecated and will raise a TypeError in the future. Use float(ser.iloc[0]) instead\n",
      "  gdf['sagrada_fam_dist'] = [float(sagrada_fam.distance(centroid)) / 1000 for centroid in gdf.centroid]\n"
     ]
    },
    {
     "data": {
      "text/html": [
       "<div>\n",
       "<style scoped>\n",
       "    .dataframe tbody tr th:only-of-type {\n",
       "        vertical-align: middle;\n",
       "    }\n",
       "\n",
       "    .dataframe tbody tr th {\n",
       "        vertical-align: top;\n",
       "    }\n",
       "\n",
       "    .dataframe thead th {\n",
       "        text-align: right;\n",
       "    }\n",
       "</style>\n",
       "<table border=\"1\" class=\"dataframe\">\n",
       "  <thead>\n",
       "    <tr style=\"text-align: right;\">\n",
       "      <th></th>\n",
       "      <th>ID_ANNEX</th>\n",
       "      <th>ANNEXDESCR</th>\n",
       "      <th>ID_TEMA</th>\n",
       "      <th>TEMA_DESCR</th>\n",
       "      <th>ID_CONJUNT</th>\n",
       "      <th>CONJ_DESCR</th>\n",
       "      <th>ID_SUBCONJ</th>\n",
       "      <th>SCONJ_DESC</th>\n",
       "      <th>ID_ELEMENT</th>\n",
       "      <th>ELEM_DESCR</th>\n",
       "      <th>...</th>\n",
       "      <th>COL_FARCIT</th>\n",
       "      <th>FCOL_DESCR</th>\n",
       "      <th>FHEX_COLOR</th>\n",
       "      <th>COL_DESCR</th>\n",
       "      <th>HEX_COLOR7</th>\n",
       "      <th>geometry</th>\n",
       "      <th>Calculated_Area</th>\n",
       "      <th>Centroid</th>\n",
       "      <th>Boundary</th>\n",
       "      <th>sagrada_fam_dist</th>\n",
       "    </tr>\n",
       "  </thead>\n",
       "  <tbody>\n",
       "    <tr>\n",
       "      <th>0</th>\n",
       "      <td>01</td>\n",
       "      <td>Grup - I</td>\n",
       "      <td>0104</td>\n",
       "      <td>Unitats Administratives</td>\n",
       "      <td>010412</td>\n",
       "      <td>Districtes</td>\n",
       "      <td>01041201</td>\n",
       "      <td>Districte</td>\n",
       "      <td>0104120101</td>\n",
       "      <td>Límit de districte</td>\n",
       "      <td>...</td>\n",
       "      <td>1</td>\n",
       "      <td>Negre</td>\n",
       "      <td>#000000</td>\n",
       "      <td>Negre</td>\n",
       "      <td>#000000</td>\n",
       "      <td>POLYGON ((1090241.744 770405.596, 1090342.582 ...</td>\n",
       "      <td>4.204931</td>\n",
       "      <td>POINT (1090083.871 769341.012)</td>\n",
       "      <td>LINESTRING (1090241.744 770405.596, 1090342.58...</td>\n",
       "      <td>2.555267</td>\n",
       "    </tr>\n",
       "    <tr>\n",
       "      <th>1</th>\n",
       "      <td>01</td>\n",
       "      <td>Grup - I</td>\n",
       "      <td>0104</td>\n",
       "      <td>Unitats Administratives</td>\n",
       "      <td>010412</td>\n",
       "      <td>Districtes</td>\n",
       "      <td>01041201</td>\n",
       "      <td>Districte</td>\n",
       "      <td>0104120101</td>\n",
       "      <td>Límit de districte</td>\n",
       "      <td>...</td>\n",
       "      <td>1</td>\n",
       "      <td>Negre</td>\n",
       "      <td>#000000</td>\n",
       "      <td>Negre</td>\n",
       "      <td>#000000</td>\n",
       "      <td>POLYGON ((1090448.237 771647.183, 1090453.694 ...</td>\n",
       "      <td>7.464303</td>\n",
       "      <td>POINT (1088651.674 770409.974)</td>\n",
       "      <td>LINESTRING (1090448.237 771647.183, 1090453.69...</td>\n",
       "      <td>1.573619</td>\n",
       "    </tr>\n",
       "  </tbody>\n",
       "</table>\n",
       "<p>2 rows × 51 columns</p>\n",
       "</div>"
      ],
      "text/plain": [
       "  ID_ANNEX ANNEXDESCR ID_TEMA               TEMA_DESCR ID_CONJUNT  CONJ_DESCR  \\\n",
       "0       01   Grup - I    0104  Unitats Administratives     010412  Districtes   \n",
       "1       01   Grup - I    0104  Unitats Administratives     010412  Districtes   \n",
       "\n",
       "  ID_SUBCONJ SCONJ_DESC  ID_ELEMENT          ELEM_DESCR  ... COL_FARCIT  \\\n",
       "0   01041201  Districte  0104120101  Límit de districte  ...          1   \n",
       "1   01041201  Districte  0104120101  Límit de districte  ...          1   \n",
       "\n",
       "  FCOL_DESCR FHEX_COLOR COL_DESCR HEX_COLOR7  \\\n",
       "0      Negre    #000000     Negre    #000000   \n",
       "1      Negre    #000000     Negre    #000000   \n",
       "\n",
       "                                            geometry Calculated_Area  \\\n",
       "0  POLYGON ((1090241.744 770405.596, 1090342.582 ...        4.204931   \n",
       "1  POLYGON ((1090448.237 771647.183, 1090453.694 ...        7.464303   \n",
       "\n",
       "                         Centroid  \\\n",
       "0  POINT (1090083.871 769341.012)   \n",
       "1  POINT (1088651.674 770409.974)   \n",
       "\n",
       "                                            Boundary sagrada_fam_dist  \n",
       "0  LINESTRING (1090241.744 770405.596, 1090342.58...         2.555267  \n",
       "1  LINESTRING (1090448.237 771647.183, 1090453.69...         1.573619  \n",
       "\n",
       "[2 rows x 51 columns]"
      ]
     },
     "execution_count": 15,
     "metadata": {},
     "output_type": "execute_result"
    }
   ],
   "source": [
    "# check sortest distance between two points \n",
    "from shapely.geometry import Point\n",
    "\n",
    "sagrada_fam = Point(2.1743680500855005, 41.403656946781304)\n",
    "sagrada_fam =  geopandas.GeoSeries(sagrada_fam, crs=4326)\n",
    "sagrada_fam= sagrada_fam.to_crs(epsg=2062)\n",
    "gdf['sagrada_fam_dist'] = [float(sagrada_fam.distance(centroid)) / 1000 for centroid in gdf.centroid]\n",
    "\n",
    "gdf.head(2)"
   ]
  },
  {
   "cell_type": "code",
   "execution_count": 16,
   "metadata": {},
   "outputs": [
    {
     "data": {
      "text/plain": [
       "Index(['ID_ANNEX', 'ANNEXDESCR', 'ID_TEMA', 'TEMA_DESCR', 'ID_CONJUNT',\n",
       "       'CONJ_DESCR', 'ID_SUBCONJ', 'SCONJ_DESC', 'ID_ELEMENT', 'ELEM_DESCR',\n",
       "       'NIVELL', 'NDESCR_CA', 'NDESCR_ES', 'NDESCR_EN', 'TERME', 'DISTRICTE',\n",
       "       'BARRI', 'AEB', 'SEC_CENS', 'GRANBARRI', 'ZUA', 'AREA_I', 'LITERAL',\n",
       "       'PERIMETRE', 'AREA', 'ORD_REPRES', 'CODI_UA', 'TIPUS_UA', 'NOM', 'WEB1',\n",
       "       'WEB2', 'WEB3', 'DOCUMENTA', 'RANGESCALA', 'TIPUS_POL', 'GRUIX_ID',\n",
       "       'GRUIXDIMEN', 'ESTIL_ID', 'ESTIL_QGIS', 'VALOR1QGIS', 'VALOR2QGIS',\n",
       "       'COL_FARCIT', 'FCOL_DESCR', 'FHEX_COLOR', 'COL_DESCR', 'HEX_COLOR7',\n",
       "       'geometry', 'Calculated_Area', 'Centroid', 'Boundary',\n",
       "       'sagrada_fam_dist'],\n",
       "      dtype='object')"
      ]
     },
     "execution_count": 16,
     "metadata": {},
     "output_type": "execute_result"
    }
   ],
   "source": [
    "gdf.columns"
   ]
  },
  {
   "cell_type": "code",
   "execution_count": 17,
   "metadata": {},
   "outputs": [
    {
     "data": {
      "image/png": "[encoded data removed]",
      "text/plain": [
       "<Figure size 640x480 with 1 Axes>"
      ]
     },
     "metadata": {},
     "output_type": "display_data"
    }
   ],
   "source": [
    "# plotting with geopandas\n",
    "ax = gdf.plot()"
   ]
  },
  {
   "cell_type": "code",
   "execution_count": 32,
   "metadata": {},
   "outputs": [
    {
     "data": {
      "text/plain": [
       "0    01\n",
       "1    02\n",
       "2    03\n",
       "3    04\n",
       "4    05\n",
       "5    06\n",
       "6    07\n",
       "7    08\n",
       "8    09\n",
       "9    10\n",
       "Name: DISTRICTE, dtype: object"
      ]
     },
     "execution_count": 32,
     "metadata": {},
     "output_type": "execute_result"
    }
   ],
   "source": [
    "gdf['DISTRICTE']"
   ]
  },
  {
   "cell_type": "code",
   "execution_count": 19,
   "metadata": {},
   "outputs": [
    {
     "data": {
      "text/plain": [
       "Index(['ID_ANNEX', 'ANNEXDESCR', 'ID_TEMA', 'TEMA_DESCR', 'ID_CONJUNT',\n",
       "       'CONJ_DESCR', 'ID_SUBCONJ', 'SCONJ_DESC', 'ID_ELEMENT', 'ELEM_DESCR',\n",
       "       'NIVELL', 'NDESCR_CA', 'NDESCR_ES', 'NDESCR_EN', 'TERME', 'DISTRICTE',\n",
       "       'BARRI', 'AEB', 'SEC_CENS', 'GRANBARRI', 'ZUA', 'AREA_I', 'LITERAL',\n",
       "       'PERIMETRE', 'AREA', 'ORD_REPRES', 'CODI_UA', 'TIPUS_UA', 'NOM', 'WEB1',\n",
       "       'WEB2', 'WEB3', 'DOCUMENTA', 'RANGESCALA', 'TIPUS_POL', 'GRUIX_ID',\n",
       "       'GRUIXDIMEN', 'ESTIL_ID', 'ESTIL_QGIS', 'VALOR1QGIS', 'VALOR2QGIS',\n",
       "       'COL_FARCIT', 'FCOL_DESCR', 'FHEX_COLOR', 'COL_DESCR', 'HEX_COLOR7',\n",
       "       'geometry', 'Calculated_Area', 'Centroid', 'Boundary',\n",
       "       'sagrada_fam_dist', 'Districte_Name'],\n",
       "      dtype='object')"
      ]
     },
     "execution_count": 19,
     "metadata": {},
     "output_type": "execute_result"
    }
   ],
   "source": [
    "# add district name \n",
    "district_name = [\"District A\", \"District B\", \"District C\", \"District D\", \"District E\", \"District F\", \"District G\", \"District H\", \"District I\", \"District J\"]\n",
    "\n",
    "gdf[\"Districte_Name\"] = district_name\n",
    "gdf.columns\n"
   ]
  },
  {
   "cell_type": "code",
   "execution_count": 20,
   "metadata": {},
   "outputs": [
    {
     "data": {
      "text/plain": [
       "<Axes: >"
      ]
     },
     "execution_count": 20,
     "metadata": {},
     "output_type": "execute_result"
    },
    {
     "data": {
      "image/png": "[encoded data removed]",
      "text/plain": [
       "<Figure size 640x480 with 1 Axes>"
      ]
     },
     "metadata": {},
     "output_type": "display_data"
    }
   ],
   "source": [
    "gdf.plot(column=gdf[\"Districte_Name\"], legend=True, edgecolor=\"black\")"
   ]
  },
  {
   "cell_type": "code",
   "execution_count": 21,
   "metadata": {},
   "outputs": [
    {
     "data": {
      "text/plain": [
       "<Axes: >"
      ]
     },
     "execution_count": 21,
     "metadata": {},
     "output_type": "execute_result"
    },
    {
     "data": {
      "image/png": "[encoded data removed]",
      "text/plain": [
       "<Figure size 640x480 with 1 Axes>"
      ]
     },
     "metadata": {},
     "output_type": "display_data"
    }
   ],
   "source": [
    "# buffer around the centroid \n",
    "buffer = geopandas.GeoSeries(gdf[\"Centroid\"].buffer(500))\n",
    "\n",
    "buffer.plot()"
   ]
  },
  {
   "cell_type": "code",
   "execution_count": 22,
   "metadata": {},
   "outputs": [
    {
     "name": "stdout",
     "output_type": "stream",
     "text": [
      "<class 'geopandas.geodataframe.GeoDataFrame'>\n"
     ]
    }
   ],
   "source": [
    "gdf.columns\n",
    "print(type(gdf))"
   ]
  }
 ],
 "metadata": {
  "kernelspec": {
   "display_name": "geogee",
   "language": "python",
   "name": "python3"
  },
  "language_info": {
   "codemirror_mode": {
    "name": "ipython",
    "version": 3
   },
   "file_extension": ".py",
   "mimetype": "text/x-python",
   "name": "python",
   "nbconvert_exporter": "python",
   "pygments_lexer": "ipython3",
   "version": "3.12.3"
  }
 },
 "nbformat": 4,
 "nbformat_minor": 2
}
